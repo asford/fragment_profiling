{
 "metadata": {
  "name": ""
 },
 "nbformat": 3,
 "nbformat_minor": 0,
 "worksheets": [
  {
   "cells": [
    {
     "cell_type": "code",
     "collapsed": false,
     "input": [
      "import IPython"
     ],
     "language": "python",
     "metadata": {},
     "outputs": [],
     "prompt_number": 11
    },
    {
     "cell_type": "code",
     "collapsed": false,
     "input": [
      "import logging; logging.root.setLevel(logging.WARNING)"
     ],
     "language": "python",
     "metadata": {},
     "outputs": [],
     "prompt_number": 12
    },
    {
     "cell_type": "code",
     "collapsed": false,
     "input": [
      "import pickle"
     ],
     "language": "python",
     "metadata": {},
     "outputs": [],
     "prompt_number": 13
    },
    {
     "cell_type": "code",
     "collapsed": false,
     "input": [
      "from interface_fragment_matching.structure_database.store import StructureDatabase\n",
      "from interface_fragment_matching.fragment_fitting.store import FragmentSpecification"
     ],
     "language": "python",
     "metadata": {},
     "outputs": [],
     "prompt_number": 14
    },
    {
     "cell_type": "code",
     "collapsed": false,
     "input": [
      "from fragment_profiling.profile_fragment_quality import ProfileFragmentQuality"
     ],
     "language": "python",
     "metadata": {},
     "outputs": [],
     "prompt_number": 15
    },
    {
     "cell_type": "code",
     "collapsed": false,
     "input": [
      "test_db = StructureDatabase(\"/work/fordas/test_sets/vall_store.h5\")\n",
      "test_residues = test_db.residues.read()\n",
      "test_spec = FragmentSpecification(9, (\"CA\"))"
     ],
     "language": "python",
     "metadata": {},
     "outputs": [],
     "prompt_number": 16
    },
    {
     "cell_type": "code",
     "collapsed": false,
     "input": [
      "from Bio.SubsMat.MatrixInfo import blosum100"
     ],
     "language": "python",
     "metadata": {},
     "outputs": [],
     "prompt_number": 17
    },
    {
     "cell_type": "code",
     "collapsed": false,
     "input": [
      "%%time\n",
      "profiler = ProfileFragmentQuality(test_residues, blosum100)"
     ],
     "language": "python",
     "metadata": {},
     "outputs": [
      {
       "output_type": "stream",
       "stream": "stdout",
       "text": [
        "CPU times: user 7.04 s, sys: 6 ms, total: 7.04 s\n",
        "Wall time: 7.05 s\n"
       ]
      }
     ],
     "prompt_number": 18
    },
    {
     "cell_type": "code",
     "collapsed": false,
     "input": [
      "short_profiler = ProfileFragmentQuality(test_residues, profiler.logscore_substitution_profile.astype(\"i2\"))\n",
      "int_profiler = ProfileFragmentQuality(test_residues, profiler.logscore_substitution_profile.astype(\"i4\"))\n",
      "long_profiler = ProfileFragmentQuality(test_residues, profiler.logscore_substitution_profile.astype(\"i8\"))"
     ],
     "language": "python",
     "metadata": {},
     "outputs": [],
     "prompt_number": 19
    },
    {
     "cell_type": "code",
     "collapsed": false,
     "input": [
      "qfrags = pickle.load(open(\"demo_fragments.pickle\"))"
     ],
     "language": "python",
     "metadata": {},
     "outputs": [],
     "prompt_number": 23
    },
    {
     "cell_type": "code",
     "collapsed": false,
     "input": [
      "locals().update(qfrags)\n",
      "qfrags.keys()"
     ],
     "language": "python",
     "metadata": {},
     "outputs": [
      {
       "metadata": {},
       "output_type": "pyout",
       "prompt_number": 24,
       "text": [
        "['negative_structure_fragments', 'positive_structure_fragments']"
       ]
      }
     ],
     "prompt_number": 24
    },
    {
     "cell_type": "code",
     "collapsed": false,
     "input": [
      "%%timeit\n",
      "profiler.profile_fragment_scoring(negative_structure_fragments)\n",
      "pass"
     ],
     "language": "python",
     "metadata": {},
     "outputs": [
      {
       "output_type": "stream",
       "stream": "stdout",
       "text": [
        "1 loops, best of 3: 3.96 s per loop\n"
       ]
      }
     ],
     "prompt_number": 32
    },
    {
     "cell_type": "code",
     "collapsed": false,
     "input": [
      "%%timeit\n",
      "int_profiler.profile_fragment_scoring(negative_structure_fragments)\n",
      "pass"
     ],
     "language": "python",
     "metadata": {},
     "outputs": [
      {
       "output_type": "stream",
       "stream": "stdout",
       "text": [
        "1 loops, best of 3: 3.34 s per loop\n"
       ]
      }
     ],
     "prompt_number": 33
    },
    {
     "cell_type": "code",
     "collapsed": false,
     "input": [
      "%%timeit\n",
      "short_profiler.perform_fragment_analysis(negative_structure_fragments)\n",
      "pass"
     ],
     "language": "python",
     "metadata": {},
     "outputs": [
      {
       "output_type": "stream",
       "stream": "stdout",
       "text": [
        "1 loops, best of 3: 3.44 s per loop\n"
       ]
      },
      {
       "output_type": "stream",
       "stream": "stdout",
       "text": [
        "1 loops, best of 3: 3.44 s per loop\n"
       ]
      }
     ],
     "prompt_number": 34
    },
    {
     "cell_type": "code",
     "collapsed": false,
     "input": [
      "%%timeit\n",
      "long_profiler.perform_fragment_analysis(negative_structure_fragments)\n",
      "pass"
     ],
     "language": "python",
     "metadata": {},
     "outputs": [
      {
       "output_type": "stream",
       "stream": "stdout",
       "text": [
        "1 loops, best of 3: 3.44 s per loop\n"
       ]
      },
      {
       "output_type": "stream",
       "stream": "stdout",
       "text": [
        "1 loops, best of 3: 3.41 s per loop\n"
       ]
      }
     ],
     "prompt_number": 35
    },
    {
     "cell_type": "code",
     "collapsed": false,
     "input": [
      "%%timeit\n",
      "pr = profiler.perform_fragment_analysis(negative_structure_fragments)\n",
      "pr = profiler.perform_fragment_analysis(positive_structure_fragments)"
     ],
     "language": "python",
     "metadata": {},
     "outputs": [
      {
       "output_type": "stream",
       "stream": "stdout",
       "text": [
        "1 loops, best of 3: 5.85 s per loop\n"
       ]
      }
     ],
     "prompt_number": 44
    },
    {
     "cell_type": "code",
     "collapsed": false,
     "input": [
      "%%timeit\n",
      "pr = short_profiler.perform_fragment_analysis(negative_structure_fragments)\n",
      "pr = short_profiler.perform_fragment_analysis(positive_structure_fragments)"
     ],
     "language": "python",
     "metadata": {},
     "outputs": [
      {
       "output_type": "stream",
       "stream": "stdout",
       "text": [
        "1 loops, best of 3: 5.68 s per loop\n"
       ]
      }
     ],
     "prompt_number": 45
    },
    {
     "cell_type": "code",
     "collapsed": false,
     "input": [
      "%prun -D setup_profiler.pstats ProfileFragmentQuality(test_residues, blosum100)\n",
      "!gprof2dot -f pstats setup_profiler.pstats | dot -Tsvg -osetup_profiler.svg\n",
      "IPython.display.SVG(filename=\"setup_profiler.svg\")"
     ],
     "language": "python",
     "metadata": {},
     "outputs": [
      {
       "output_type": "stream",
       "stream": "stdout",
       "text": [
        " \n",
        "*** Profile stats marshalled to file u'setup_profiler.pstats'. \n"
       ]
      },
      {
       "metadata": {},
       "output_type": "pyout",
       "prompt_number": 41,
       "svg": [
        "<svg height=\"260pt\" viewBox=\"0.00 0.00 284.00 260.00\" width=\"284pt\" xmlns=\"http://www.w3.org/2000/svg\" xmlns:xlink=\"http://www.w3.org/1999/xlink\">\n",
        "<g class=\"graph\" id=\"graph0\" transform=\"scale(1 1) rotate(0) translate(4 256)\">\n",
        "<title>%3</title>\n",
        "<polygon fill=\"white\" points=\"-4,4 -4,-256 280,-256 280,4 -4,4\" stroke=\"white\"/>\n",
        "<!-- 0 -->\n",
        "<g class=\"node\" id=\"node1\"><title>0</title>\n",
        "<path d=\"M213.281,-154C213.281,-154 62.7185,-154 62.7185,-154 56.7185,-154 50.7185,-148 50.7185,-142 50.7185,-142 50.7185,-110 50.7185,-110 50.7185,-104 56.7185,-98 62.7185,-98 62.7185,-98 213.281,-98 213.281,-98 219.281,-98 225.281,-104 225.281,-110 225.281,-110 225.281,-142 225.281,-142 225.281,-148 219.281,-154 213.281,-154\" fill=\"#ff0000\" stroke=\"#ff0000\"/>\n",
        "<text fill=\"#ffffff\" font-family=\"Arial\" font-size=\"10.00\" text-anchor=\"middle\" x=\"138\" y=\"-141\">profile_fragment_quality:19:__init__</text>\n",
        "<text fill=\"#ffffff\" font-family=\"Arial\" font-size=\"10.00\" text-anchor=\"middle\" x=\"138\" y=\"-129\">100.00%</text>\n",
        "<text fill=\"#ffffff\" font-family=\"Arial\" font-size=\"10.00\" text-anchor=\"middle\" x=\"138\" y=\"-117\">(0.00%)</text>\n",
        "<text fill=\"#ffffff\" font-family=\"Arial\" font-size=\"10.00\" text-anchor=\"middle\" x=\"138\" y=\"-105\">1</text>\n",
        "</g>\n",
        "<!-- 4 -->\n",
        "<g class=\"node\" id=\"node2\"><title>4</title>\n",
        "<path d=\"M263.98,-56C263.98,-56 12.0196,-56 12.0196,-56 6.01956,-56 0.0195581,-50 0.0195581,-44 0.0195581,-44 0.0195581,-12 0.0195581,-12 0.0195581,-6 6.01956,-3.55271e-15 12.0196,-3.55271e-15 12.0196,-3.55271e-15 263.98,-3.55271e-15 263.98,-3.55271e-15 269.98,-3.55271e-15 275.98,-6 275.98,-12 275.98,-12 275.98,-44 275.98,-44 275.98,-50 269.98,-56 263.98,-56\" fill=\"#ff0000\" stroke=\"#ff0000\"/>\n",
        "<text fill=\"#ffffff\" font-family=\"Arial\" font-size=\"10.00\" text-anchor=\"middle\" x=\"138\" y=\"-43\">profile_fragment_quality:161:sequence_array_to_encoding</text>\n",
        "<text fill=\"#ffffff\" font-family=\"Arial\" font-size=\"10.00\" text-anchor=\"middle\" x=\"138\" y=\"-31\">99.99%</text>\n",
        "<text fill=\"#ffffff\" font-family=\"Arial\" font-size=\"10.00\" text-anchor=\"middle\" x=\"138\" y=\"-19\">(99.98%)</text>\n",
        "<text fill=\"#ffffff\" font-family=\"Arial\" font-size=\"10.00\" text-anchor=\"middle\" x=\"138\" y=\"-7\">1</text>\n",
        "</g>\n",
        "<!-- 0&#45;&gt;4 -->\n",
        "<g class=\"edge\" id=\"edge1\"><title>0-&gt;4</title>\n",
        "<path d=\"M138,-97.747C138,-88.0185 138,-76.882 138,-66.4458\" fill=\"none\" stroke=\"#ff0000\" stroke-width=\"4\"/>\n",
        "<polygon fill=\"#ff0000\" points=\"141.5,-66.3211 138,-56.3211 134.5,-66.3211 141.5,-66.3211\" stroke=\"#ff0000\"/>\n",
        "<text fill=\"#ff0000\" font-family=\"Arial\" font-size=\"10.00\" text-anchor=\"middle\" x=\"154.952\" y=\"-80\">99.99%</text>\n",
        "<text fill=\"#ff0000\" font-family=\"Arial\" font-size=\"10.00\" text-anchor=\"middle\" x=\"154.952\" y=\"-68\">1</text>\n",
        "</g>\n",
        "<!-- 1 -->\n",
        "<g class=\"node\" id=\"node3\"><title>1</title>\n",
        "<path d=\"M179.278,-252C179.278,-252 96.7219,-252 96.7219,-252 90.7219,-252 84.7219,-246 84.7219,-240 84.7219,-240 84.7219,-208 84.7219,-208 84.7219,-202 90.7219,-196 96.7219,-196 96.7219,-196 179.278,-196 179.278,-196 185.278,-196 191.278,-202 191.278,-208 191.278,-208 191.278,-240 191.278,-240 191.278,-246 185.278,-252 179.278,-252\" fill=\"#ff0000\" stroke=\"#ff0000\"/>\n",
        "<text fill=\"#ffffff\" font-family=\"Arial\" font-size=\"10.00\" text-anchor=\"middle\" x=\"138\" y=\"-239\">&lt;string&gt;:1:&lt;module&gt;</text>\n",
        "<text fill=\"#ffffff\" font-family=\"Arial\" font-size=\"10.00\" text-anchor=\"middle\" x=\"138\" y=\"-227\">100.00%</text>\n",
        "<text fill=\"#ffffff\" font-family=\"Arial\" font-size=\"10.00\" text-anchor=\"middle\" x=\"138\" y=\"-215\">(0.00%)</text>\n",
        "<text fill=\"#ffffff\" font-family=\"Arial\" font-size=\"10.00\" text-anchor=\"middle\" x=\"138\" y=\"-203\">1</text>\n",
        "</g>\n",
        "<!-- 1&#45;&gt;0 -->\n",
        "<g class=\"edge\" id=\"edge2\"><title>1-&gt;0</title>\n",
        "<path d=\"M138,-195.747C138,-186.019 138,-174.882 138,-164.446\" fill=\"none\" stroke=\"#ff0000\" stroke-width=\"4\"/>\n",
        "<polygon fill=\"#ff0000\" points=\"141.5,-164.321 138,-154.321 134.5,-164.321 141.5,-164.321\" stroke=\"#ff0000\"/>\n",
        "<text fill=\"#ff0000\" font-family=\"Arial\" font-size=\"10.00\" text-anchor=\"middle\" x=\"157.732\" y=\"-178\">100.00%</text>\n",
        "<text fill=\"#ff0000\" font-family=\"Arial\" font-size=\"10.00\" text-anchor=\"middle\" x=\"157.732\" y=\"-166\">1</text>\n",
        "</g>\n",
        "</g>\n",
        "</svg>"
       ],
       "text": [
        "<IPython.core.display.SVG at 0x9818f90>"
       ]
      }
     ],
     "prompt_number": 41
    },
    {
     "cell_type": "code",
     "collapsed": false,
     "input": [
      "%prun -D perform_fragment_analysis.pstats profiler.perform_fragment_analysis(qfrags[\"negative_structure_fragments\"])\n",
      "!gprof2dot -f pstats perform_fragment_analysis.pstats | dot -Tsvg -operform_fragment_analysis.svg\n",
      "IPython.display.SVG(filename=\"perform_fragment_analysis.svg\")"
     ],
     "language": "python",
     "metadata": {},
     "outputs": [
      {
       "output_type": "stream",
       "stream": "stdout",
       "text": [
        " \n",
        "*** Profile stats marshalled to file u'perform_fragment_analysis.pstats'. \n"
       ]
      },
      {
       "metadata": {},
       "output_type": "pyout",
       "prompt_number": 39,
       "svg": [
        "<svg height=\"456pt\" viewBox=\"0.00 0.00 909.00 456.00\" width=\"909pt\" xmlns=\"http://www.w3.org/2000/svg\" xmlns:xlink=\"http://www.w3.org/1999/xlink\">\n",
        "<g class=\"graph\" id=\"graph0\" transform=\"scale(1 1) rotate(0) translate(4 452)\">\n",
        "<title>%3</title>\n",
        "<polygon fill=\"white\" points=\"-4,4 -4,-452 905,-452 905,4 -4,4\" stroke=\"white\"/>\n",
        "<!-- 5 -->\n",
        "<g class=\"node\" id=\"node1\"><title>5</title>\n",
        "<path d=\"M634.368,-350C634.368,-350 397.632,-350 397.632,-350 391.632,-350 385.632,-344 385.632,-338 385.632,-338 385.632,-306 385.632,-306 385.632,-300 391.632,-294 397.632,-294 397.632,-294 634.368,-294 634.368,-294 640.368,-294 646.368,-300 646.368,-306 646.368,-306 646.368,-338 646.368,-338 646.368,-344 640.368,-350 634.368,-350\" fill=\"#ff0000\" stroke=\"#ff0000\"/>\n",
        "<text fill=\"#ffffff\" font-family=\"Arial\" font-size=\"10.00\" text-anchor=\"middle\" x=\"516\" y=\"-337\">profile_fragment_quality:41:perform_fragment_analysis</text>\n",
        "<text fill=\"#ffffff\" font-family=\"Arial\" font-size=\"10.00\" text-anchor=\"middle\" x=\"516\" y=\"-325\">100.00%</text>\n",
        "<text fill=\"#ffffff\" font-family=\"Arial\" font-size=\"10.00\" text-anchor=\"middle\" x=\"516\" y=\"-313\">(60.73%)</text>\n",
        "<text fill=\"#ffffff\" font-family=\"Arial\" font-size=\"10.00\" text-anchor=\"middle\" x=\"516\" y=\"-301\">1</text>\n",
        "</g>\n",
        "<!-- 10 -->\n",
        "<g class=\"node\" id=\"node2\"><title>10</title>\n",
        "<path d=\"M395.446,-252C395.446,-252 230.554,-252 230.554,-252 224.554,-252 218.554,-246 218.554,-240 218.554,-240 218.554,-208 218.554,-208 218.554,-202 224.554,-196 230.554,-196 230.554,-196 395.446,-196 395.446,-196 401.446,-196 407.446,-202 407.446,-208 407.446,-208 407.446,-240 407.446,-240 407.446,-246 401.446,-252 395.446,-252\" fill=\"#0c9982\" stroke=\"#0c9982\"/>\n",
        "<text fill=\"#ffffff\" font-family=\"Arial\" font-size=\"10.00\" text-anchor=\"middle\" x=\"313\" y=\"-239\">__init__:4:atom_array_broadcast_rmsd</text>\n",
        "<text fill=\"#ffffff\" font-family=\"Arial\" font-size=\"10.00\" text-anchor=\"middle\" x=\"313\" y=\"-227\">29.02%</text>\n",
        "<text fill=\"#ffffff\" font-family=\"Arial\" font-size=\"10.00\" text-anchor=\"middle\" x=\"313\" y=\"-215\">(0.05%)</text>\n",
        "<text fill=\"#ffffff\" font-family=\"Arial\" font-size=\"10.00\" text-anchor=\"middle\" x=\"313\" y=\"-203\">271</text>\n",
        "</g>\n",
        "<!-- 5&#45;&gt;10 -->\n",
        "<g class=\"edge\" id=\"edge1\"><title>5-&gt;10</title>\n",
        "<path d=\"M458.642,-293.875C432.594,-281.557 401.728,-266.96 375.131,-254.382\" fill=\"none\" stroke=\"#0c9982\" stroke-width=\"1.16\"/>\n",
        "<polygon fill=\"#0c9982\" points=\"375.906,-252.658 370.216,-252.058 374.29,-256.075 375.906,-252.658\" stroke=\"#0c9982\"/>\n",
        "<text fill=\"#0c9982\" font-family=\"Arial\" font-size=\"10.00\" text-anchor=\"middle\" x=\"455.952\" y=\"-276\">29.02%</text>\n",
        "<text fill=\"#0c9982\" font-family=\"Arial\" font-size=\"10.00\" text-anchor=\"middle\" x=\"455.952\" y=\"-264\">271</text>\n",
        "</g>\n",
        "<!-- 19 -->\n",
        "<g class=\"node\" id=\"node3\"><title>19</title>\n",
        "<path d=\"M603.112,-252C603.112,-252 428.888,-252 428.888,-252 422.888,-252 416.888,-246 416.888,-240 416.888,-240 416.888,-208 416.888,-208 416.888,-202 422.888,-196 428.888,-196 428.888,-196 603.112,-196 603.112,-196 609.112,-196 615.112,-202 615.112,-208 615.112,-208 615.112,-240 615.112,-240 615.112,-246 609.112,-252 603.112,-252\" fill=\"#0d377f\" stroke=\"#0d377f\"/>\n",
        "<text fill=\"#ffffff\" font-family=\"Arial\" font-size=\"10.00\" text-anchor=\"middle\" x=\"516\" y=\"-239\">store:152:fragments_from_start_residues</text>\n",
        "<text fill=\"#ffffff\" font-family=\"Arial\" font-size=\"10.00\" text-anchor=\"middle\" x=\"516\" y=\"-227\">9.35%</text>\n",
        "<text fill=\"#ffffff\" font-family=\"Arial\" font-size=\"10.00\" text-anchor=\"middle\" x=\"516\" y=\"-215\">(9.15%)</text>\n",
        "<text fill=\"#ffffff\" font-family=\"Arial\" font-size=\"10.00\" text-anchor=\"middle\" x=\"516\" y=\"-203\">272</text>\n",
        "</g>\n",
        "<!-- 5&#45;&gt;19 -->\n",
        "<g class=\"edge\" id=\"edge2\"><title>5-&gt;19</title>\n",
        "<path d=\"M516,-293.747C516,-281.992 516,-268.181 516,-256.033\" fill=\"none\" stroke=\"#0d377f\" stroke-width=\"0.5\"/>\n",
        "<polygon fill=\"#0d377f\" points=\"517.225,-255.821 516,-252.321 514.775,-255.821 517.225,-255.821\" stroke=\"#0d377f\"/>\n",
        "<text fill=\"#0d377f\" font-family=\"Arial\" font-size=\"10.00\" text-anchor=\"middle\" x=\"530.173\" y=\"-276\">9.35%</text>\n",
        "<text fill=\"#0d377f\" font-family=\"Arial\" font-size=\"10.00\" text-anchor=\"middle\" x=\"530.173\" y=\"-264\">272</text>\n",
        "</g>\n",
        "<!-- 21 -->\n",
        "<g class=\"node\" id=\"node4\"><title>21</title>\n",
        "<path d=\"M888.98,-252C888.98,-252 637.02,-252 637.02,-252 631.02,-252 625.02,-246 625.02,-240 625.02,-240 625.02,-208 625.02,-208 625.02,-202 631.02,-196 637.02,-196 637.02,-196 888.98,-196 888.98,-196 894.98,-196 900.98,-202 900.98,-208 900.98,-208 900.98,-240 900.98,-240 900.98,-246 894.98,-252 888.98,-252\" fill=\"#0d1074\" stroke=\"#0d1074\"/>\n",
        "<text fill=\"#ffffff\" font-family=\"Arial\" font-size=\"10.00\" text-anchor=\"middle\" x=\"763\" y=\"-239\">profile_fragment_quality:161:sequence_array_to_encoding</text>\n",
        "<text fill=\"#ffffff\" font-family=\"Arial\" font-size=\"10.00\" text-anchor=\"middle\" x=\"763\" y=\"-227\">0.79%</text>\n",
        "<text fill=\"#ffffff\" font-family=\"Arial\" font-size=\"10.00\" text-anchor=\"middle\" x=\"763\" y=\"-215\">(0.71%)</text>\n",
        "<text fill=\"#ffffff\" font-family=\"Arial\" font-size=\"10.00\" text-anchor=\"middle\" x=\"763\" y=\"-203\">271</text>\n",
        "</g>\n",
        "<!-- 5&#45;&gt;21 -->\n",
        "<g class=\"edge\" id=\"edge3\"><title>5-&gt;21</title>\n",
        "<path d=\"M585.79,-293.875C618.273,-281.25 656.914,-266.232 689.81,-253.446\" fill=\"none\" stroke=\"#0d1074\" stroke-width=\"0.5\"/>\n",
        "<polygon fill=\"#0d1074\" points=\"690.564,-254.468 693.383,-252.058 689.676,-252.184 690.564,-254.468\" stroke=\"#0d1074\"/>\n",
        "<text fill=\"#0d1074\" font-family=\"Arial\" font-size=\"10.00\" text-anchor=\"middle\" x=\"682.173\" y=\"-276\">0.79%</text>\n",
        "<text fill=\"#0d1074\" font-family=\"Arial\" font-size=\"10.00\" text-anchor=\"middle\" x=\"682.173\" y=\"-264\">271</text>\n",
        "</g>\n",
        "<!-- 9 -->\n",
        "<g class=\"node\" id=\"node5\"><title>9</title>\n",
        "<path d=\"M410.457,-154C410.457,-154 215.543,-154 215.543,-154 209.543,-154 203.543,-148 203.543,-142 203.543,-142 203.543,-110 203.543,-110 203.543,-104 209.543,-98 215.543,-98 215.543,-98 410.457,-98 410.457,-98 416.457,-98 422.457,-104 422.457,-110 422.457,-110 422.457,-142 422.457,-142 422.457,-148 416.457,-154 410.457,-154\" fill=\"#0c9983\" stroke=\"#0c9983\"/>\n",
        "<text fill=\"#ffffff\" font-family=\"Arial\" font-size=\"10.00\" text-anchor=\"middle\" x=\"313\" y=\"-141\">__init__:31:coordinate_array_broadcast_rmsd</text>\n",
        "<text fill=\"#ffffff\" font-family=\"Arial\" font-size=\"10.00\" text-anchor=\"middle\" x=\"313\" y=\"-129\">28.85%</text>\n",
        "<text fill=\"#ffffff\" font-family=\"Arial\" font-size=\"10.00\" text-anchor=\"middle\" x=\"313\" y=\"-117\">(0.02%)</text>\n",
        "<text fill=\"#ffffff\" font-family=\"Arial\" font-size=\"10.00\" text-anchor=\"middle\" x=\"313\" y=\"-105\">271</text>\n",
        "</g>\n",
        "<!-- 10&#45;&gt;9 -->\n",
        "<g class=\"edge\" id=\"edge5\"><title>10-&gt;9</title>\n",
        "<path d=\"M313,-195.747C313,-184.6 313,-171.604 313,-159.931\" fill=\"none\" stroke=\"#0c9983\" stroke-width=\"1.15\"/>\n",
        "<polygon fill=\"#0c9983\" points=\"314.89,-159.721 313,-154.321 311.11,-159.721 314.89,-159.721\" stroke=\"#0c9983\"/>\n",
        "<text fill=\"#0c9983\" font-family=\"Arial\" font-size=\"10.00\" text-anchor=\"middle\" x=\"329.952\" y=\"-178\">28.85%</text>\n",
        "<text fill=\"#0c9983\" font-family=\"Arial\" font-size=\"10.00\" text-anchor=\"middle\" x=\"329.952\" y=\"-166\">271</text>\n",
        "</g>\n",
        "<!-- 24 -->\n",
        "<g class=\"node\" id=\"node6\"><title>24</title>\n",
        "<path d=\"M614.606,-56C614.606,-56 11.3938,-56 11.3938,-56 5.39385,-56 -0.606151,-50 -0.606151,-44 -0.606151,-44 -0.606151,-12 -0.606151,-12 -0.606151,-6 5.39385,-3.55271e-15 11.3938,-3.55271e-15 11.3938,-3.55271e-15 614.606,-3.55271e-15 614.606,-3.55271e-15 620.606,-3.55271e-15 626.606,-6 626.606,-12 626.606,-12 626.606,-44 626.606,-44 626.606,-50 620.606,-56 614.606,-56\" fill=\"#0c9983\" stroke=\"#0c9983\"/>\n",
        "<text fill=\"#ffffff\" font-family=\"Arial\" font-size=\"10.00\" text-anchor=\"middle\" x=\"313\" y=\"-43\">~:0:&lt;method 'get_broadcast_coordinate_rmsd' of 'interface_fragment_matching.fragment_fitting.rmsd_calc.rmsd_calc.rmsd_calc' objects&gt;</text>\n",
        "<text fill=\"#ffffff\" font-family=\"Arial\" font-size=\"10.00\" text-anchor=\"middle\" x=\"313\" y=\"-31\">28.81%</text>\n",
        "<text fill=\"#ffffff\" font-family=\"Arial\" font-size=\"10.00\" text-anchor=\"middle\" x=\"313\" y=\"-19\">(28.81%)</text>\n",
        "<text fill=\"#ffffff\" font-family=\"Arial\" font-size=\"10.00\" text-anchor=\"middle\" x=\"313\" y=\"-7\">271</text>\n",
        "</g>\n",
        "<!-- 9&#45;&gt;24 -->\n",
        "<g class=\"edge\" id=\"edge4\"><title>9-&gt;24</title>\n",
        "<path d=\"M313,-97.747C313,-86.5998 313,-73.6039 313,-61.9312\" fill=\"none\" stroke=\"#0c9983\" stroke-width=\"1.15\"/>\n",
        "<polygon fill=\"#0c9983\" points=\"314.89,-61.7211 313,-56.3211 311.11,-61.7211 314.89,-61.7211\" stroke=\"#0c9983\"/>\n",
        "<text fill=\"#0c9983\" font-family=\"Arial\" font-size=\"10.00\" text-anchor=\"middle\" x=\"329.952\" y=\"-80\">28.81%</text>\n",
        "<text fill=\"#0c9983\" font-family=\"Arial\" font-size=\"10.00\" text-anchor=\"middle\" x=\"329.952\" y=\"-68\">271</text>\n",
        "</g>\n",
        "<!-- 12 -->\n",
        "<g class=\"node\" id=\"node7\"><title>12</title>\n",
        "<path d=\"M557.278,-448C557.278,-448 474.722,-448 474.722,-448 468.722,-448 462.722,-442 462.722,-436 462.722,-436 462.722,-404 462.722,-404 462.722,-398 468.722,-392 474.722,-392 474.722,-392 557.278,-392 557.278,-392 563.278,-392 569.278,-398 569.278,-404 569.278,-404 569.278,-436 569.278,-436 569.278,-442 563.278,-448 557.278,-448\" fill=\"#ff0000\" stroke=\"#ff0000\"/>\n",
        "<text fill=\"#ffffff\" font-family=\"Arial\" font-size=\"10.00\" text-anchor=\"middle\" x=\"516\" y=\"-435\">&lt;string&gt;:1:&lt;module&gt;</text>\n",
        "<text fill=\"#ffffff\" font-family=\"Arial\" font-size=\"10.00\" text-anchor=\"middle\" x=\"516\" y=\"-423\">100.00%</text>\n",
        "<text fill=\"#ffffff\" font-family=\"Arial\" font-size=\"10.00\" text-anchor=\"middle\" x=\"516\" y=\"-411\">(0.00%)</text>\n",
        "<text fill=\"#ffffff\" font-family=\"Arial\" font-size=\"10.00\" text-anchor=\"middle\" x=\"516\" y=\"-399\">1</text>\n",
        "</g>\n",
        "<!-- 12&#45;&gt;5 -->\n",
        "<g class=\"edge\" id=\"edge6\"><title>12-&gt;5</title>\n",
        "<path d=\"M516,-391.747C516,-382.019 516,-370.882 516,-360.446\" fill=\"none\" stroke=\"#ff0000\" stroke-width=\"4\"/>\n",
        "<polygon fill=\"#ff0000\" points=\"519.5,-360.321 516,-350.321 512.5,-360.321 519.5,-360.321\" stroke=\"#ff0000\"/>\n",
        "<text fill=\"#ff0000\" font-family=\"Arial\" font-size=\"10.00\" text-anchor=\"middle\" x=\"535.731\" y=\"-374\">100.00%</text>\n",
        "<text fill=\"#ff0000\" font-family=\"Arial\" font-size=\"10.00\" text-anchor=\"middle\" x=\"535.731\" y=\"-362\">1</text>\n",
        "</g>\n",
        "</g>\n",
        "</svg>"
       ],
       "text": [
        "<IPython.core.display.SVG at 0x98187d0>"
       ]
      }
     ],
     "prompt_number": 39
    }
   ],
   "metadata": {}
  }
 ]
}