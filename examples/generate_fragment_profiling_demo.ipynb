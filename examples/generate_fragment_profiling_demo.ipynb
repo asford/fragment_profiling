{
 "metadata": {
  "name": ""
 },
 "nbformat": 3,
 "nbformat_minor": 0,
 "worksheets": [
  {
   "cells": [
    {
     "cell_type": "code",
     "collapsed": false,
     "input": [
      "import cPickle as pickle\n",
      "import logging; logging.root.setLevel(logging.WARNING)"
     ],
     "language": "python",
     "metadata": {},
     "outputs": [],
     "prompt_number": 1
    },
    {
     "cell_type": "markdown",
     "metadata": {},
     "source": [
      "Import and initalize rosetta to parse input poses."
     ]
    },
    {
     "cell_type": "code",
     "collapsed": false,
     "input": [
      "import rosetta; rosetta.init()\n",
      "from rosetta.core.scoring.dssp import Dssp"
     ],
     "language": "python",
     "metadata": {},
     "outputs": [],
     "prompt_number": 2
    },
    {
     "cell_type": "markdown",
     "metadata": {},
     "source": [
      "StructureDatabase class served as interface to backend structure store. FragmentSpecifiction is used to define the length of fragments extracted from source structures."
     ]
    },
    {
     "cell_type": "code",
     "collapsed": false,
     "input": [
      "from interface_fragment_matching.structure_database.store import StructureDatabase\n",
      "from interface_fragment_matching.fragment_fitting.store import FragmentSpecification"
     ],
     "language": "python",
     "metadata": {},
     "outputs": [],
     "prompt_number": 3
    },
    {
     "cell_type": "markdown",
     "metadata": {},
     "source": [
      "`ProfileFragmentQuality` worker class handles loading backing fragments, preparing data for sequence scoring, and execute of profile runs for input fragments.\n",
      "\n",
      "`ProofileFragmentQuality` returns `ProfileFragmentQualityResult` objects, which store query fragments, result fragments, rmsd analysis results, and manage plotting result summaries."
     ]
    },
    {
     "cell_type": "code",
     "collapsed": false,
     "input": [
      "from fragment_profiling import ProfileFragmentQuality"
     ],
     "language": "python",
     "metadata": {},
     "outputs": [],
     "prompt_number": 4
    },
    {
     "cell_type": "markdown",
     "metadata": {},
     "source": [
      "Load source structure database for profiling run and generate library of 9-mer source fragments. Extract backbone (`bb`) and side chain (`sc`) data in addition to fragment coordinates, side chain entries provide amino acid ids for profiler."
     ]
    },
    {
     "cell_type": "code",
     "collapsed": false,
     "input": [
      "test_db = StructureDatabase(\"/work/fordas/test_sets/vall_store.h5\")\n",
      "test_residues = test_db.residues.read()\n",
      "test_spec = FragmentSpecification(9, (\"CA\"))\n",
      "_, test_fragments = test_spec.fragments_from_source_residues(test_residues, additional_per_residue_fields=[\"bb\", \"sc\"])"
     ],
     "language": "python",
     "metadata": {},
     "outputs": [],
     "prompt_number": 8
    },
    {
     "cell_type": "markdown",
     "metadata": {},
     "source": [
      "Load positive and negative example structures.\n",
      "\n",
      "Perform DSSP secondary structure assignment to identify loop regions.\n",
      "\n",
      "Extract all 9-mer fragments from the source structures. Also extract secondary-structure assignment (`ss`) field."
     ]
    },
    {
     "cell_type": "code",
     "collapsed": false,
     "input": [
      "positive_structure = rosetta.pose_from_pdb(\"6h_3l_3_recirc_full_min_0006.good_fragments.pdb\")\n",
      "Dssp(positive_structure).insert_ss_into_pose(positive_structure)\n",
      "\n",
      "negative_structure = rosetta.pose_from_pdb(\"6h2l_remodel_5.poor_fragments.pdb\")\n",
      "Dssp(negative_structure).insert_ss_into_pose(negative_structure)"
     ],
     "language": "python",
     "metadata": {},
     "outputs": [],
     "prompt_number": 9
    },
    {
     "cell_type": "code",
     "collapsed": false,
     "input": [
      "_, positive_structure_fragments = test_spec.fragments_from_source_residues(StructureDatabase.extract_residue_entries_from_pose(positive_structure), additional_per_residue_fields=[\"bb\", \"sc\", \"ss\"])\n",
      "_, negative_structure_fragments = test_spec.fragments_from_source_residues(StructureDatabase.extract_residue_entries_from_pose(negative_structure), additional_per_residue_fields=[\"bb\", \"sc\", \"ss\"])"
     ],
     "language": "python",
     "metadata": {},
     "outputs": [],
     "prompt_number": 10
    },
    {
     "cell_type": "markdown",
     "metadata": {},
     "source": [
      "Select fragments spanning loop regions in the source structures.\n",
      "\n",
      "Fragment arrays are shape `N` structured arrays, containing shape `fragment_length` subfields. Selecting subfields results in shape `(N, fragment_length)` sub-arrays.\n",
      "\n",
      "Count the number of loop (`L`) secondary structure assignments per fragment, and select fragments with 1 or more `L` residues."
     ]
    },
    {
     "cell_type": "code",
     "collapsed": false,
     "input": [
      "positive_loop_fragments = positive_structure_fragments[numpy.sum( positive_structure_fragments[\"ss\"] == \"L\", axis=-1) != 0]\n",
      "negative_loop_fragments = negative_structure_fragments[numpy.sum( negative_structure_fragments[\"ss\"] == \"L\", axis=-1) != 0]"
     ],
     "language": "python",
     "metadata": {},
     "outputs": [],
     "prompt_number": 11
    },
    {
     "cell_type": "markdown",
     "metadata": {},
     "source": [
      "Initialize profiler using vall 9-mer fragments and `blosum100` sequence substitution scoring table. `blosum100` is based on strict sequence identity and (relatively) disfavors substitutions."
     ]
    },
    {
     "cell_type": "code",
     "collapsed": false,
     "input": [
      "from Bio.SubsMat.MatrixInfo import blosum100\n",
      "profiler = ProfileFragmentQuality(test_fragments, blosum100)"
     ],
     "language": "python",
     "metadata": {},
     "outputs": [],
     "prompt_number": 12
    },
    {
     "cell_type": "markdown",
     "metadata": {},
     "source": [
      "Perform profiling run on all fragments in both structures."
     ]
    },
    {
     "cell_type": "code",
     "collapsed": false,
     "input": [
      "positive_structure_profile_results = profiler.perform_fragment_analysis(positive_structure_fragments)\n",
      "negative_structure_profile_results = profiler.perform_fragment_analysis(negative_structure_fragments)"
     ],
     "language": "python",
     "metadata": {},
     "outputs": [],
     "prompt_number": "*"
    },
    {
     "cell_type": "markdown",
     "metadata": {},
     "source": [
      "Perform profiling run on subset of loop-containing fragments in both structures."
     ]
    },
    {
     "cell_type": "code",
     "collapsed": false,
     "input": [
      "positive_loop_structure_profile_results = profiler.perform_fragment_analysis(positive_loop_fragments)\n",
      "negative_loop_structure_profile_results = profiler.perform_fragment_analysis(negative_loop_fragments)"
     ],
     "language": "python",
     "metadata": {},
     "outputs": [],
     "prompt_number": "*"
    },
    {
     "cell_type": "markdown",
     "metadata": {},
     "source": [
      "Write profiling results to output file. Use binary pickle protocol to reduce file size."
     ]
    },
    {
     "cell_type": "code",
     "collapsed": false,
     "input": [
      "pickle.dump(\n",
      "            dict(\n",
      "                 positive_structure_profile_results = positive_structure_profile_results,\n",
      "                 negative_structure_profile_results = negative_structure_profile_results,\n",
      "                 positive_loop_structure_profile_results = positive_loop_structure_profile_results,\n",
      "                 negative_loop_structure_profile_results = negative_loop_structure_profile_results),\n",
      "        open(\"fragment_profile_demo_results.pickle\", \"w\"),\n",
      "        pickle.HIGHEST_PROTOCOL)"
     ],
     "language": "python",
     "metadata": {},
     "outputs": [],
     "prompt_number": "*"
    }
   ],
   "metadata": {}
  }
 ]
}